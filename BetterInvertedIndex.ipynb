{
  "nbformat": 4,
  "nbformat_minor": 0,
  "metadata": {
    "colab": {
      "provenance": []
    },
    "kernelspec": {
      "name": "python3",
      "display_name": "Python 3"
    },
    "language_info": {
      "name": "python"
    }
  },
  "cells": [
    {
      "cell_type": "code",
      "execution_count": null,
      "metadata": {
        "id": "OgBE8qUGXPpW"
      },
      "outputs": [],
      "source": [
        "#!/usr/bin/env python3\n",
        "# coding: utf-8\n",
        "\n",
        "import findspark\n",
        "import pyspark\n",
        "import sys\n",
        "import os\n",
        "\n",
        "from pyspark.sql import SparkSession\n",
        "\n",
        "if (len(sys.argv) != 2):\n",
        "    print(\"Usage: BetterInvertedIndex.py <input folder>\")\n",
        "    sys.exit(1)\n",
        "\n",
        "# Create a Spark session\n",
        "spark = SparkSession.builder.master('local[*]').appName(\"BetterInvertedIndex\").getOrCreate()\n",
        "sc = spark.sparkContext\n",
        "\n",
        "# Read input data\n",
        "input_folder = sys.argv[1]\n",
        "rdd = sc.wholeTextFiles(input_folder)\n",
        "\n",
        "# Tokenize and process the data to create a better inverted index\n",
        "inverted_index = rdd.flatMap(lambda doc: [((word, os.path.basename(doc[0])), 1) for word in doc[1].split()])\n",
        "inverted_index = inverted_index.reduceByKey(lambda a, b: a + b)\n",
        "\n",
        "# Reorganize the data for sorting\n",
        "inverted_index = inverted_index.map(lambda item: (item[0][0], (item[0][1], item[1]))\n",
        "\n",
        "# Group by word for sorting\n",
        "inverted_index = inverted_index.groupByKey()\n",
        "\n",
        "# Sort the list of filenames as per specified rules\n",
        "inverted_index = inverted_index.mapValues(\n",
        "    lambda docs: sorted(docs, key=lambda x: (-x[1], x[0]))\n",
        ")\n",
        "\n",
        "# Collect and print the better inverted index\n",
        "result = inverted_index.collect()\n",
        "for word, documents in result:\n",
        "    print(f\"{word}\\t{', '.join([f'{count} {doc}' for doc, count in documents])}\")\n"
      ]
    }
  ]
}