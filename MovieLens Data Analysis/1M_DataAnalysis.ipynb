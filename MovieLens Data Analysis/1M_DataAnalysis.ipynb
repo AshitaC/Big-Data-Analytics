{
 "cells": [
  {
   "cell_type": "markdown",
   "metadata": {},
   "source": [
    "# Project3_1M_MovieLens Data Analysis\n",
    "\n",
    "Author : Ashita Chandnani"
   ]
  },
  {
   "cell_type": "markdown",
   "metadata": {},
   "source": [
    "Interesting trends -\n",
    "\n",
    "[1. What are the k most popular movies of all times?](#section_1)\n",
    "\n",
    "[2. What are the k most popular movies of a particular year?](#section_2)\n",
    "\n",
    "[3. What are the k most popular movies by age group?](#section_3)\n",
    "\n",
    "[4. What are the k movies with most ratings (presumably popular) with lowest ratings?](#section_4)\n",
    "\n",
    "[5. What are the top k movies for the specified season?](#section_5)\n",
    "\n",
    "[6. What is the average rating for each genre?](#section_6)\n",
    "\n",
    "[7. What is the average rating given by each age group?](#section_7)\n",
    "\n",
    "[8. What is the average age of users who rated movies in each genre?](#section_8)\n",
    "\n",
    "[9. What are the top rated movies in each genre?](#section_9)\n",
    "\n",
    "[10. Which genres are preferred by people with different occupational groups?](#section_10)"
   ]
  },
  {
   "cell_type": "code",
   "execution_count": 1,
   "metadata": {},
   "outputs": [],
   "source": [
    "from pyspark.sql import SparkSession, Row\n",
    "from pyspark.sql.functions import *\n",
    "import sys"
   ]
  },
  {
   "cell_type": "code",
   "execution_count": 2,
   "metadata": {},
   "outputs": [
    {
     "name": "stderr",
     "output_type": "stream",
     "text": [
      "Setting default log level to \"WARN\".\n",
      "To adjust logging level use sc.setLogLevel(newLevel). For SparkR, use setLogLevel(newLevel).\n",
      "23/12/06 22:13:37 WARN NativeCodeLoader: Unable to load native-hadoop library for your platform... using builtin-java classes where applicable\n"
     ]
    }
   ],
   "source": [
    "# Creating a Spark session\n",
    "spark = (SparkSession\n",
    "        .builder\n",
    "        .appName(\"Spark SQL Project3 Movie Data Mining Interesting Trends 1Million Dataset\")\n",
    "        .getOrCreate())"
   ]
  },
  {
   "cell_type": "code",
   "execution_count": 3,
   "metadata": {},
   "outputs": [],
   "source": [
    "# Loading the DataFrames\n",
    "movie_csv_file = \"hdfs://cscluster00.boisestate.edu:9000/user/ashitachandnani/movies/ml-1m/movies.dat\"\n",
    "ratings_csv_file = \"hdfs://cscluster00.boisestate.edu:9000/user/ashitachandnani/movies/ml-1m/ratings.dat\"\n",
    "users_csv_file = \"hdfs://cscluster00.boisestate.edu:9000/user/ashitachandnani/movies/ml-1m/users.dat\""
   ]
  },
  {
   "cell_type": "code",
   "execution_count": 4,
   "metadata": {},
   "outputs": [],
   "source": [
    "movies_df = (spark.read.format(\"csv\")\n",
    "      .option(\"sep\", \"::\")\n",
    "      .option(\"inferschema\", \"true\")\n",
    "      .option(\"samplingRatio\", 0.1)  # Adjust the sampling ratio \n",
    "      .load(movie_csv_file)\n",
    "      .toDF(\"MovieID\",\"Titles\",\"Genres\"))"
   ]
  },
  {
   "cell_type": "code",
   "execution_count": 5,
   "metadata": {},
   "outputs": [],
   "source": [
    "ratings_df = (spark.read.format(\"csv\")\n",
    "    .option(\"sep\", \"::\")\n",
    "    .option(\"inferschema\", \"true\")\n",
    "    .option(\"samplingRatio\", 0.1)  # Adjust the sampling ratio\n",
    "    .load(ratings_csv_file)\n",
    "    .toDF(\"UserID\", \"MovieID\", \"Rating\", \"Timestamp\"))"
   ]
  },
  {
   "cell_type": "code",
   "execution_count": 6,
   "metadata": {},
   "outputs": [],
   "source": [
    "users_df = (spark.read.format(\"csv\")\n",
    "    .option(\"sep\", \"::\")\n",
    "    .option(\"inferschema\", \"true\")\n",
    "    .option(\"samplingRatio\", 0.1)  # Adjust the sampling ratio\n",
    "    .load(users_csv_file)\n",
    "    .toDF(\"UserID\", \"Gender\", \"Age\", \"Occupation\", \"Zip-code\"))"
   ]
  },
  {
   "cell_type": "code",
   "execution_count": 7,
   "metadata": {},
   "outputs": [
    {
     "name": "stdout",
     "output_type": "stream",
     "text": [
      "+-------+--------------------+--------------------+\n",
      "|MovieID|              Titles|              Genres|\n",
      "+-------+--------------------+--------------------+\n",
      "|      1|    Toy Story (1995)|Animation|Childre...|\n",
      "|      2|      Jumanji (1995)|Adventure|Childre...|\n",
      "|      3|Grumpier Old Men ...|      Comedy|Romance|\n",
      "|      4|Waiting to Exhale...|        Comedy|Drama|\n",
      "|      5|Father of the Bri...|              Comedy|\n",
      "+-------+--------------------+--------------------+\n",
      "only showing top 5 rows\n",
      "\n"
     ]
    }
   ],
   "source": [
    "movies_df.show(5)"
   ]
  },
  {
   "cell_type": "code",
   "execution_count": 8,
   "metadata": {},
   "outputs": [
    {
     "name": "stdout",
     "output_type": "stream",
     "text": [
      "+-------+----------------+--------------------+----------+\n",
      "|MovieID|          Titles|              Genres|     Genre|\n",
      "+-------+----------------+--------------------+----------+\n",
      "|      1|Toy Story (1995)|Animation|Childre...| Animation|\n",
      "|      1|Toy Story (1995)|Animation|Childre...|Children's|\n",
      "|      1|Toy Story (1995)|Animation|Childre...|    Comedy|\n",
      "|      2|  Jumanji (1995)|Adventure|Childre...| Adventure|\n",
      "|      2|  Jumanji (1995)|Adventure|Childre...|Children's|\n",
      "+-------+----------------+--------------------+----------+\n",
      "only showing top 5 rows\n",
      "\n"
     ]
    }
   ],
   "source": [
    "movies=movies_df.withColumn(\"Genre\", explode(split(trim(col(\"Genres\")), \"\\\\|\")))\n",
    "movies.show(5)"
   ]
  },
  {
   "cell_type": "code",
   "execution_count": 9,
   "metadata": {},
   "outputs": [
    {
     "name": "stdout",
     "output_type": "stream",
     "text": [
      "+-------+----------------+----------+\n",
      "|MovieID|          Titles|     Genre|\n",
      "+-------+----------------+----------+\n",
      "|      1|Toy Story (1995)| Animation|\n",
      "|      1|Toy Story (1995)|Children's|\n",
      "|      1|Toy Story (1995)|    Comedy|\n",
      "|      2|  Jumanji (1995)| Adventure|\n",
      "|      2|  Jumanji (1995)|Children's|\n",
      "+-------+----------------+----------+\n",
      "only showing top 5 rows\n",
      "\n"
     ]
    }
   ],
   "source": [
    "movies=movies.drop('Genres')\n",
    "movies.show(5)"
   ]
  },
  {
   "cell_type": "code",
   "execution_count": 10,
   "metadata": {},
   "outputs": [
    {
     "name": "stdout",
     "output_type": "stream",
     "text": [
      "+------+-------+------+---------+\n",
      "|UserID|MovieID|Rating|Timestamp|\n",
      "+------+-------+------+---------+\n",
      "|     1|   1193|     5|978300760|\n",
      "|     1|    661|     3|978302109|\n",
      "|     1|    914|     3|978301968|\n",
      "|     1|   3408|     4|978300275|\n",
      "|     1|   2355|     5|978824291|\n",
      "+------+-------+------+---------+\n",
      "only showing top 5 rows\n",
      "\n"
     ]
    }
   ],
   "source": [
    "ratings_df.show(5)"
   ]
  },
  {
   "cell_type": "code",
   "execution_count": 11,
   "metadata": {},
   "outputs": [
    {
     "name": "stdout",
     "output_type": "stream",
     "text": [
      "+------+------+---+----------+--------+\n",
      "|UserID|Gender|Age|Occupation|Zip-code|\n",
      "+------+------+---+----------+--------+\n",
      "|     1|     F|  1|        10|   48067|\n",
      "|     2|     M| 56|        16|   70072|\n",
      "|     3|     M| 25|        15|   55117|\n",
      "|     4|     M| 45|         7|   02460|\n",
      "|     5|     M| 25|        20|   55455|\n",
      "+------+------+---+----------+--------+\n",
      "only showing top 5 rows\n",
      "\n"
     ]
    }
   ],
   "source": [
    "users_df.show(5)"
   ]
  },
  {
   "cell_type": "code",
   "execution_count": 12,
   "metadata": {},
   "outputs": [],
   "source": [
    "# Joining ratings and users on UserID\n",
    "movies_ratings_df = movies.join(ratings_df, on=\"MovieID\")"
   ]
  },
  {
   "cell_type": "code",
   "execution_count": 13,
   "metadata": {},
   "outputs": [],
   "source": [
    "# Joining with movies on MovieID\n",
    "joined_df = movies_ratings_df.join(users_df, on=\"UserID\")"
   ]
  },
  {
   "cell_type": "code",
   "execution_count": 14,
   "metadata": {},
   "outputs": [],
   "source": [
    "# Convert the timestamp to a date and extract the month\n",
    "joined_df = joined_df.withColumn(\"ReleaseMonth\", month(from_unixtime(\"Timestamp\")))"
   ]
  },
  {
   "cell_type": "code",
   "execution_count": 15,
   "metadata": {},
   "outputs": [],
   "source": [
    "joined_df.createOrReplaceTempView(\"all_tbl\")"
   ]
  },
  {
   "cell_type": "code",
   "execution_count": 16,
   "metadata": {},
   "outputs": [
    {
     "name": "stdout",
     "output_type": "stream",
     "text": [
      "+------+-------+--------------------+----------+------+---------+------+---+----------+--------+------------+\n",
      "|UserID|MovieID|              Titles|     Genre|Rating|Timestamp|Gender|Age|Occupation|Zip-code|ReleaseMonth|\n",
      "+------+-------+--------------------+----------+------+---------+------+---+----------+--------+------------+\n",
      "|     1|   1193|One Flew Over the...|     Drama|     5|978300760|     F|  1|        10|   48067|          12|\n",
      "|     1|    661|James and the Gia...|   Musical|     3|978302109|     F|  1|        10|   48067|          12|\n",
      "|     1|    661|James and the Gia...|Children's|     3|978302109|     F|  1|        10|   48067|          12|\n",
      "|     1|    661|James and the Gia...| Animation|     3|978302109|     F|  1|        10|   48067|          12|\n",
      "|     1|    914| My Fair Lady (1964)|   Romance|     3|978301968|     F|  1|        10|   48067|          12|\n",
      "+------+-------+--------------------+----------+------+---------+------+---+----------+--------+------------+\n",
      "\n"
     ]
    }
   ],
   "source": [
    "spark.sql(\"Select * from all_tbl limit (5)\").show()"
   ]
  },
  {
   "cell_type": "markdown",
   "metadata": {},
   "source": [
    "Now we can issue standard SQL queries. These would be no differenet than what we would\n",
    "do in a standrad relational database.\n",
    "\n",
    "The all_tbl has the data of all 3 tables joined on the common columns:\n",
    "* MovieID\n",
    "* UserID\n",
    "\n",
    "Now we can proceed with answering all our questions using standard SQL statements"
   ]
  },
  {
   "cell_type": "markdown",
   "metadata": {},
   "source": [
    "# Interesting Trends -"
   ]
  },
  {
   "cell_type": "markdown",
   "metadata": {},
   "source": [
    "<a id=\"section_1\"></a>\n",
    "## 1. What are the k most popular movies of all times?"
   ]
  },
  {
   "cell_type": "code",
   "execution_count": 17,
   "metadata": {},
   "outputs": [
    {
     "name": "stderr",
     "output_type": "stream",
     "text": [
      "[Stage 16:======================================>                   (4 + 2) / 6]\r"
     ]
    },
    {
     "name": "stdout",
     "output_type": "stream",
     "text": [
      "+-------+--------------------+-----------+---------+\n",
      "|MovieID|              Titles|RatingCount|AvgRating|\n",
      "+-------+--------------------+-----------+---------+\n",
      "|   1196|Star Wars: Episod...|      14950|     4.29|\n",
      "|   1210|Star Wars: Episod...|      14415|     4.02|\n",
      "|    260|Star Wars: Episod...|      11964|     4.45|\n",
      "|   1580| Men in Black (1997)|      10152|     3.74|\n",
      "|   1197|Princess Bride, T...|       9272|      4.3|\n",
      "|   1617|L.A. Confidential...|       9152|     4.22|\n",
      "|   1097|E.T. the Extra-Te...|       9076|     3.97|\n",
      "|   2628|Star Wars: Episod...|       9000|     3.41|\n",
      "|   1214|        Alien (1979)|       8096|     4.16|\n",
      "|    480|Jurassic Park (1993)|       8016|     3.76|\n",
      "+-------+--------------------+-----------+---------+\n",
      "\n"
     ]
    },
    {
     "name": "stderr",
     "output_type": "stream",
     "text": [
      "                                                                                \r"
     ]
    }
   ],
   "source": [
    "# SQL queries to find k most popular movies of all times\n",
    "\n",
    "# Define the value of k (number of most popular movies we want to retrieve)\n",
    "k = 10\n",
    "\n",
    "result=spark.sql(f\"\"\"SELECT MovieID,Titles,Count(*) as RatingCount,\n",
    "Round(AVG(Rating),2) AS AvgRating\n",
    "FROM all_tbl\n",
    "Group By MovieID, Titles\n",
    "ORDER by RatingCount DESC,AvgRating DESC\n",
    "LIMIT {k}\"\"\")\n",
    "result.show()\n"
   ]
  },
  {
   "cell_type": "markdown",
   "metadata": {},
   "source": [
    "This global popularity analysis provides insights into the overall popularity of movies across all genres and years. It identifies movies that have received the highest number of ratings, indicating a broad appeal among users.\n",
    " \n",
    " Platforms can use this information to understand which movies have resonated the most with their user base. This information about the most popular movies of all time can be used for catalog promotion. \n",
    " \n",
    "Highlighting these movies can attract new users and retain existing ones by offering a selection of widely appreciated content.\n",
    "\n",
    "**Star Wars** is most rated overall with more than 10k 4_and_up ratings."
   ]
  },
  {
   "cell_type": "markdown",
   "metadata": {},
   "source": [
    "<a id=\"section_2\"></a>\n",
    "## 2. What are the k most popular movies of a particular year?"
   ]
  },
  {
   "cell_type": "code",
   "execution_count": 18,
   "metadata": {},
   "outputs": [
    {
     "name": "stderr",
     "output_type": "stream",
     "text": [
      "[Stage 21:======================================>                   (4 + 2) / 6]\r"
     ]
    },
    {
     "name": "stdout",
     "output_type": "stream",
     "text": [
      "+-------+--------------------+-----------+---------+\n",
      "|MovieID|              Titles|RatingCount|AvgRating|\n",
      "+-------+--------------------+-----------+---------+\n",
      "|   1196|Star Wars: Episod...|        195|     4.38|\n",
      "|   2628|Star Wars: Episod...|        192|     3.02|\n",
      "|   1210|Star Wars: Episod...|        170|     3.76|\n",
      "|    260|Star Wars: Episod...|        164|     4.44|\n",
      "|   1097|E.T. the Extra-Te...|        160|      4.0|\n",
      "|   1200|       Aliens (1986)|        160|      3.8|\n",
      "|   1214|        Alien (1979)|        148|     4.03|\n",
      "|   1127|   Abyss, The (1989)|        144|     3.64|\n",
      "|   3897|Almost Famous (2000)|        136|      3.9|\n",
      "|   2692|Run Lola Run (Lol...|        135|     4.07|\n",
      "+-------+--------------------+-----------+---------+\n",
      "\n"
     ]
    },
    {
     "name": "stderr",
     "output_type": "stream",
     "text": [
      "                                                                                \r"
     ]
    }
   ],
   "source": [
    "# SQL query to find k most popular movies of a particular year\n",
    "\n",
    "# Define the value of k (number of most popular movies we want to retrieve)\n",
    "k = 10\n",
    "\n",
    "# Define the desired year\n",
    "target_year = 2002  \n",
    "\n",
    "result=spark.sql(f\"\"\"SELECT MovieID,Titles,Count(*) as RatingCount,\n",
    "Round(AVG(Rating),2) AS AvgRating\n",
    "FROM all_tbl\n",
    "WHERE YEAR(FROM_UNIXTIME(Timestamp))=={target_year}\n",
    "Group By MovieID, Titles\n",
    "ORDER by RatingCount DESC, AvgRating DESC\n",
    "LIMIT {k}\"\"\")\n",
    "result.show()\n"
   ]
  },
  {
   "cell_type": "markdown",
   "metadata": {},
   "source": [
    "The query allows for an annual analysis of the most popular movies, helping content platforms understand the trends and preferences of users during a specific year (e.g., 2002 **Star wars** was most popular).\n",
    " \n",
    " Yearly user engagement metrics can help the platforms assess success of their content strategy and make informed decisions for the future.\n",
    " \n",
    " Users may find value in discovering or revisiting movies that were celebrated during a specific time frame.\n",
    " \n",
    " Highlighting the top movies of a given year can enhance user satisfaction and keep the catalog diverse and engaging.\n"
   ]
  },
  {
   "cell_type": "markdown",
   "metadata": {},
   "source": [
    "<a id=\"section_3\"></a>\n",
    "## 3. What are the k most popular movies by age group?"
   ]
  },
  {
   "cell_type": "code",
   "execution_count": 19,
   "metadata": {},
   "outputs": [
    {
     "name": "stdout",
     "output_type": "stream",
     "text": [
      "+-------+--------------------+-----------+---------+\n",
      "|MovieID|              Titles|RatingCount|AvgRating|\n",
      "+-------+--------------------+-----------+---------+\n",
      "|   1196|Star Wars: Episod...|       5880|     4.39|\n",
      "|   1210|Star Wars: Episod...|       5670|     4.06|\n",
      "|    260|Star Wars: Episod...|       4512|     4.57|\n",
      "|   1197|Princess Bride, T...|       3920|     4.37|\n",
      "|   1580| Men in Black (1997)|       3884|     3.67|\n",
      "|   2628|Star Wars: Episod...|       3612|     3.37|\n",
      "|   1097|E.T. the Extra-Te...|       3544|     3.96|\n",
      "|   1617|L.A. Confidential...|       3520|     4.24|\n",
      "|   2916| Total Recall (1990)|       3416|     3.65|\n",
      "|    589|Terminator 2: Jud...|       3261|     4.02|\n",
      "+-------+--------------------+-----------+---------+\n",
      "\n"
     ]
    }
   ],
   "source": [
    "# SQL Query to find k most popular movies by age group\n",
    "\n",
    "# Define the value of k (number of most popular movies we want to retrieve)\n",
    "k = 10\n",
    "\n",
    "# Define the desired age group\n",
    "target_age_group = 25   # it represents  \"25-34\" age bracket\n",
    "\n",
    "result=spark.sql(f\"\"\"SELECT MovieID,Titles,Count(*) as RatingCount,\n",
    "Round(AVG(Rating),2) AS AvgRating\n",
    "FROM all_tbl\n",
    "WHERE Age=={target_age_group}\n",
    "Group By MovieID, Titles\n",
    "ORDER by RatingCount DESC, AvgRating DESC\n",
    "LIMIT {k}\"\"\")\n",
    "result.show()\n"
   ]
  },
  {
   "cell_type": "markdown",
   "metadata": {},
   "source": [
    "By focusing on a specific age group (e.g., in 25-34 ages,  **Star Wars** is most popular), the query aims to provide personalized recommendations tailored to the preferences of users within that age range. \n",
    " \n",
    "This is particularly relevant for content platforms seeking to enhance user experience and engagement.\n",
    " \n",
    " Users are more likely to return to a platform that consistently offers content that aligns with their preferences."
   ]
  },
  {
   "cell_type": "markdown",
   "metadata": {},
   "source": [
    "<a id=\"section_4\"></a>\n",
    "## 4. What are the k movies with most ratings (presumably popular) with lowest ratings?"
   ]
  },
  {
   "cell_type": "code",
   "execution_count": 20,
   "metadata": {},
   "outputs": [
    {
     "name": "stderr",
     "output_type": "stream",
     "text": [
      "[Stage 31:=========>                                                (1 + 5) / 6]\r"
     ]
    },
    {
     "name": "stdout",
     "output_type": "stream",
     "text": [
      "+-------+--------------------+---------+-----------+\n",
      "|MovieID|              Titles|AvgRating|RatingCount|\n",
      "+-------+--------------------+---------+-----------+\n",
      "|   1196|Star Wars: Episod...|     4.29|      14950|\n",
      "|   1210|Star Wars: Episod...|     4.02|      14415|\n",
      "|    260|Star Wars: Episod...|     4.45|      11964|\n",
      "|   1580| Men in Black (1997)|     3.74|      10152|\n",
      "|   1197|Princess Bride, T...|      4.3|       9272|\n",
      "|   1617|L.A. Confidential...|     4.22|       9152|\n",
      "|   1097|E.T. the Extra-Te...|     3.97|       9076|\n",
      "|   2628|Star Wars: Episod...|     3.41|       9000|\n",
      "|   1214|        Alien (1979)|     4.16|       8096|\n",
      "|    480|Jurassic Park (1993)|     3.76|       8016|\n",
      "+-------+--------------------+---------+-----------+\n",
      "\n"
     ]
    },
    {
     "name": "stderr",
     "output_type": "stream",
     "text": [
      "                                                                                \r"
     ]
    }
   ],
   "source": [
    "# Define the value of k (number of most popular movies we want to retrieve)\n",
    "k = 10\n",
    "\n",
    "# SQL queries to find k movies with most ratings (presumably popular) with lowest Ratings\n",
    "result=spark.sql(f\"\"\"SELECT MovieID,Titles,Round(AVG(Rating),2) as AvgRating,Count(*) as RatingCount\n",
    "FROM all_tbl\n",
    "Group By MovieID, Titles\n",
    "HAVING RatingCount > 1  -- To exclude movies with only one rating\n",
    "ORDER by RatingCount DESC, AvgRating ASC\n",
    "LIMIT {k}\"\"\")\n",
    "result.show()"
   ]
  },
  {
   "cell_type": "markdown",
   "metadata": {},
   "source": [
    "The combination of high rating counts and lower average ratings may indicate that certain movies are widely watched but not universally well-received. \n",
    " \n",
    " Understanding user engagement with such movies can be crucial for content platforms to refine their recommendation algorithms and content curation strategies.\n",
    " \n",
    " It present an opportunity for content platforms to analyze user feedback and identify areas for improvement. \n",
    " \n",
    " It may also be useful in balancing content recommrndations. While some users may enjoy popular blockbusters, others may prefer movies with niche appeal or unconventional storytelling.\n"
   ]
  },
  {
   "cell_type": "markdown",
   "metadata": {},
   "source": [
    "<a id=\"section_5\"></a>\n",
    "## 5. What are the top k movies for the specified season?"
   ]
  },
  {
   "cell_type": "code",
   "execution_count": 21,
   "metadata": {},
   "outputs": [
    {
     "name": "stderr",
     "output_type": "stream",
     "text": [
      "[Stage 36:=============================>                            (3 + 3) / 6]\r"
     ]
    },
    {
     "name": "stdout",
     "output_type": "stream",
     "text": [
      "+-------+--------------------+---------+-----------+\n",
      "|MovieID|              Titles|AvgRating|RatingCount|\n",
      "+-------+--------------------+---------+-----------+\n",
      "|   1196|Star Wars: Episod...|     4.32|       4935|\n",
      "|   1210|Star Wars: Episod...|     4.05|       4875|\n",
      "|    260|Star Wars: Episod...|     4.51|       4008|\n",
      "|   1197|Princess Bride, T...|     4.34|       3284|\n",
      "|   1580| Men in Black (1997)|     3.81|       3200|\n",
      "|   1097|E.T. the Extra-Te...|     3.92|       3056|\n",
      "|   1617|L.A. Confidential...|      4.2|       3056|\n",
      "|   2628|Star Wars: Episod...|     3.46|       2964|\n",
      "|   1214|        Alien (1979)|     4.16|       2864|\n",
      "|   2916| Total Recall (1990)|     3.64|       2824|\n",
      "+-------+--------------------+---------+-----------+\n",
      "\n"
     ]
    },
    {
     "name": "stderr",
     "output_type": "stream",
     "text": [
      "                                                                                \r"
     ]
    }
   ],
   "source": [
    "# SQL query to find the top k movies for the specified season\n",
    "\n",
    "# Define the value of k (number of most popular movies we want to retrieve)\n",
    "k = 10\n",
    "\n",
    "# Define the season (1: Winter, 2: Spring, 3: Summer, 4: Fall)\n",
    "target_season = 3  # Example: 3 for Summer\n",
    "\n",
    "result=spark.sql(f\"\"\"SELECT MovieID,Titles,Round(AVG(Rating),2) as AvgRating,Count(*) as RatingCount\n",
    "FROM all_tbl\n",
    "WHERE ReleaseMonth >= {target_season * 3 - 2} AND ReleaseMonth <= {target_season * 3}\n",
    "Group By MovieID, Titles\n",
    "HAVING RatingCount > 1  -- To exclude movies with only one rating\n",
    "ORDER by RatingCount DESC, AvgRating ASC\n",
    "LIMIT {k}\"\"\")\n",
    "result.show()\n"
   ]
  },
  {
   "cell_type": "markdown",
   "metadata": {},
   "source": [
    "This SQL query finds the top k movies for a specified season.\n",
    " \n",
    "Understanding seasonal viewing patterns can be used for seasonal content recommendation. "
   ]
  },
  {
   "cell_type": "markdown",
   "metadata": {},
   "source": [
    "<a id=\"section_6\"></a>\n",
    "## 6. What is the average rating for each genre?"
   ]
  },
  {
   "cell_type": "code",
   "execution_count": 22,
   "metadata": {},
   "outputs": [
    {
     "name": "stdout",
     "output_type": "stream",
     "text": [
      "+-----------+---------+\n",
      "|      Genre|AvgRating|\n",
      "+-----------+---------+\n",
      "|  Film-Noir|     4.08|\n",
      "|Documentary|     3.93|\n",
      "|        War|     3.89|\n",
      "|      Drama|     3.77|\n",
      "|      Crime|     3.71|\n",
      "|  Animation|     3.68|\n",
      "|    Mystery|     3.67|\n",
      "|    Musical|     3.67|\n",
      "|    Western|     3.64|\n",
      "|    Romance|     3.61|\n",
      "|   Thriller|     3.57|\n",
      "|     Comedy|     3.52|\n",
      "|     Action|     3.49|\n",
      "|  Adventure|     3.48|\n",
      "|     Sci-Fi|     3.47|\n",
      "|    Fantasy|     3.45|\n",
      "| Children's|     3.42|\n",
      "|     Horror|     3.22|\n",
      "+-----------+---------+\n",
      "\n"
     ]
    },
    {
     "name": "stderr",
     "output_type": "stream",
     "text": [
      "                                                                                \r"
     ]
    }
   ],
   "source": [
    "\n",
    "# SQL query to calculate the average rating for each genre\n",
    "result=spark.sql(\"\"\"SELECT Genre,Round(AVG(Rating),2) as AvgRating\n",
    "FROM \n",
    "    (SELECT MovieID,Rating,Genre\n",
    "    FROM all_tbl)\n",
    "Group By Genre\n",
    "ORDER by AvgRating DESC\n",
    "\"\"\")\n",
    "result.show()\n"
   ]
  },
  {
   "cell_type": "markdown",
   "metadata": {},
   "source": [
    "This query calculates the average rating for each genre by aggregating the ratings of movies within each genre.\n",
    " \n",
    "This information facilitates data-driven decision-making in the entertainment industry by providing insights into the popularity and user perceptions of different genres. \n",
    " \n",
    "Platforms can leverage this information to enhance content curation, user engagement, and overall strategic planning.\n",
    "\n",
    "**Film-Noir** stands out with highest average rating and **Horror** with the lowest average rating."
   ]
  },
  {
   "cell_type": "markdown",
   "metadata": {},
   "source": [
    "<a id=\"section_7\"></a>\n",
    "## 7. What is the average rating given by each age group?"
   ]
  },
  {
   "cell_type": "code",
   "execution_count": 23,
   "metadata": {},
   "outputs": [
    {
     "name": "stderr",
     "output_type": "stream",
     "text": [
      "[Stage 46:=============================>                            (3 + 3) / 6]\r"
     ]
    },
    {
     "name": "stdout",
     "output_type": "stream",
     "text": [
      "+---+---------+\n",
      "|Age|AvgRating|\n",
      "+---+---------+\n",
      "|  1|     3.54|\n",
      "| 18|     3.51|\n",
      "| 25|     3.55|\n",
      "| 35|     3.62|\n",
      "| 45|     3.64|\n",
      "| 50|     3.72|\n",
      "| 56|     3.76|\n",
      "+---+---------+\n",
      "\n"
     ]
    },
    {
     "name": "stderr",
     "output_type": "stream",
     "text": [
      "                                                                                \r"
     ]
    }
   ],
   "source": [
    "# SQL query to calculate the average rating by age group\n",
    "result=spark.sql(\"\"\"SELECT Age,Round(AVG(Rating),2) as AvgRating\n",
    "FROM all_tbl\n",
    "Group By Age\n",
    "ORDER by Age ASC\n",
    "\"\"\")\n",
    "result.show()\n"
   ]
  },
  {
   "cell_type": "markdown",
   "metadata": {},
   "source": [
    "This query is useful for understanding the average ratings given by users in different age groups. \n",
    " \n",
    "Analyzing the average ratings based on age can provide valuable insights into the preferences and satisfaction levels of users across different age demographics.\n",
    "\n",
    "**Older age groups** tend to give more average ratings."
   ]
  },
  {
   "cell_type": "markdown",
   "metadata": {},
   "source": [
    "<a id=\"section_8\"></a>\n",
    "## 8. What is the average age of users who rated movies in each genre?"
   ]
  },
  {
   "cell_type": "code",
   "execution_count": 24,
   "metadata": {},
   "outputs": [
    {
     "name": "stderr",
     "output_type": "stream",
     "text": [
      "[Stage 51:======================================>                   (4 + 2) / 6]\r"
     ]
    },
    {
     "name": "stdout",
     "output_type": "stream",
     "text": [
      "+-----------+------+\n",
      "|      Genre|AvgAge|\n",
      "+-----------+------+\n",
      "|    Western| 32.83|\n",
      "|  Film-Noir| 32.62|\n",
      "|        War|  31.4|\n",
      "|    Mystery| 31.13|\n",
      "|      Drama| 30.75|\n",
      "|Documentary| 30.32|\n",
      "|    Romance| 30.23|\n",
      "|    Musical| 30.03|\n",
      "|     Sci-Fi| 29.44|\n",
      "|      Crime| 29.42|\n",
      "|   Thriller|  29.4|\n",
      "|  Adventure| 29.24|\n",
      "|     Action| 29.12|\n",
      "|     Comedy| 29.04|\n",
      "|     Horror| 28.76|\n",
      "|    Fantasy| 28.27|\n",
      "| Children's| 27.51|\n",
      "|  Animation| 27.14|\n",
      "+-----------+------+\n",
      "\n"
     ]
    },
    {
     "name": "stderr",
     "output_type": "stream",
     "text": [
      "                                                                                \r"
     ]
    }
   ],
   "source": [
    "# SQL query to calculate the average age of users who rated movies in each genre\n",
    "result=spark.sql(\"\"\"SELECT Genre,Round(AVG(Age),2) as AvgAge\n",
    "FROM all_tbl\n",
    "Group By Genre\n",
    "ORDER by AvgAge DESC\n",
    "\"\"\")\n",
    "result.show()\n"
   ]
  },
  {
   "cell_type": "markdown",
   "metadata": {},
   "source": [
    "\n",
    " This query is useful to the platform for understanding the average age of users who rate movies in different genres. \n",
    " \n",
    " It provides insights into the age demographics of the audience for each genre, which can be valuable for optimizing various aspects of content strategy and user engagements.\n",
    " \n",
    " Average age of people rating **Western** movies is about 32 years."
   ]
  },
  {
   "cell_type": "markdown",
   "metadata": {},
   "source": [
    "<a id=\"section_9\"></a>\n",
    "## 9. What are the top rated movies in each genre?"
   ]
  },
  {
   "cell_type": "code",
   "execution_count": 25,
   "metadata": {},
   "outputs": [
    {
     "name": "stderr",
     "output_type": "stream",
     "text": [
      "[Stage 56:================================================>         (5 + 1) / 6]\r"
     ]
    },
    {
     "name": "stdout",
     "output_type": "stream",
     "text": [
      "+------+-------+--------------------+---------+-----------+-------+\n",
      "| Genre|MovieID|              Titles|AvgRating|RatingCount|Ranking|\n",
      "+------+-------+--------------------+---------+-----------+-------+\n",
      "|Action|   2905|      Sanjuro (1962)|     4.61|         69|      1|\n",
      "|Action|   2019|Seven Samurai (Th...|     4.56|        628|      2|\n",
      "|Action|    858|Godfather, The (1...|     4.52|       2223|      3|\n",
      "|Action|   1198|Raiders of the Lo...|     4.48|       2514|      4|\n",
      "|Action|    260|Star Wars: Episod...|     4.45|       2991|      5|\n",
      "|Action|   1221|Godfather: Part I...|     4.36|       1692|      6|\n",
      "|Action|   2028|Saving Private Ry...|     4.34|       2653|      7|\n",
      "|Action|   2571|  Matrix, The (1999)|     4.32|       2590|      8|\n",
      "|Action|   1197|Princess Bride, T...|      4.3|       2318|      9|\n",
      "|Action|   1233|Boat, The (Das Bo...|      4.3|       1001|     10|\n",
      "|Action|   1196|Star Wars: Episod...|     4.29|       2990|     11|\n",
      "|Action|    969|African Queen, Th...|     4.25|       1057|     12|\n",
      "|Action|    110|   Braveheart (1995)|     4.23|       2443|     13|\n",
      "|Action|   2692|Run Lola Run (Lol...|     4.22|       1072|     14|\n",
      "|Action|   1304|Butch Cassidy and...|     4.22|       1419|     15|\n",
      "|Action|   1218|Killer, The (Die ...|      4.2|        244|     16|\n",
      "|Action|   1242|        Glory (1989)|     4.19|       1112|     17|\n",
      "|Action|   1214|        Alien (1979)|     4.16|       2024|     18|\n",
      "|Action|   1240|Terminator, The (...|     4.15|       2098|     19|\n",
      "|Action|   3000|Princess Mononoke...|     4.15|        345|     20|\n",
      "+------+-------+--------------------+---------+-----------+-------+\n",
      "only showing top 20 rows\n",
      "\n"
     ]
    },
    {
     "name": "stderr",
     "output_type": "stream",
     "text": [
      "                                                                                \r"
     ]
    }
   ],
   "source": [
    "# SQL query to find top rated movies in each genre\n",
    "result=spark.sql(\"\"\"SELECT\n",
    "    Genre,\n",
    "    MovieID,\n",
    "    Titles,\n",
    "    Round(AVG(Rating),2) AS AvgRating,\n",
    "    COUNT(*) AS RatingCount,\n",
    "    RANK() OVER (PARTITION BY Genre ORDER BY AVG(Rating) DESC,COUNT(*) DESC) AS Ranking\n",
    "FROM\n",
    "    all_tbl\n",
    "GROUP BY\n",
    "    Genre, MovieID,Titles\n",
    "ORDER BY\n",
    "    Genre, Ranking;\n",
    "\"\"\")\n",
    "result.show(20)"
   ]
  },
  {
   "cell_type": "markdown",
   "metadata": {},
   "source": [
    "The above query calculates the average rating, rating count, and ranking for each movie by genre. It uses the RANK() window function to rank movies within each genre based on the average rating and count of ratings.\n",
    " \n",
    " This information can be useful top recommend top rated movies in each genre to users who show an interest in a specific genre.\n",
    "\n",
    "\n",
    "**Sanjuro** and **Seven Samurai** are have highest average ratings in Action Genre while **Star Wars** still remains to have highest number of ratings."
   ]
  },
  {
   "cell_type": "markdown",
   "metadata": {},
   "source": [
    "<a id=\"section_10\"></a>\n",
    "## 10. Which genres are preferred by people with different occupational groups?"
   ]
  },
  {
   "cell_type": "code",
   "execution_count": 26,
   "metadata": {},
   "outputs": [
    {
     "name": "stderr",
     "output_type": "stream",
     "text": [
      "[Stage 64:================================================>         (5 + 1) / 6]\r"
     ]
    },
    {
     "name": "stdout",
     "output_type": "stream",
     "text": [
      "+-----------------+-----------+---------+\n",
      "|  OccupationGroup|      Genre|AvgRating|\n",
      "+-----------------+-----------+---------+\n",
      "|     K-12 student|  Film-Noir|     4.21|\n",
      "|     K-12 student|        War|     3.88|\n",
      "|     K-12 student|      Drama|     3.78|\n",
      "|     K-12 student|      Crime|     3.69|\n",
      "|     K-12 student|    Mystery|     3.64|\n",
      "|     K-12 student|    Romance|     3.62|\n",
      "|     K-12 student|Documentary|     3.58|\n",
      "|     K-12 student|    Musical|     3.56|\n",
      "|     K-12 student|   Thriller|     3.55|\n",
      "|     K-12 student|    Western|     3.51|\n",
      "|     K-12 student|     Action|      3.5|\n",
      "|     K-12 student|     Comedy|      3.5|\n",
      "|     K-12 student|  Animation|     3.46|\n",
      "|     K-12 student|     Sci-Fi|     3.44|\n",
      "|     K-12 student|  Adventure|     3.43|\n",
      "|     K-12 student|    Fantasy|      3.3|\n",
      "|     K-12 student|     Horror|     3.24|\n",
      "|     K-12 student| Children's|     3.22|\n",
      "|academic/educator|  Film-Noir|     4.08|\n",
      "|academic/educator|Documentary|     3.98|\n",
      "|academic/educator|        War|     3.88|\n",
      "|academic/educator|      Drama|     3.75|\n",
      "|academic/educator|    Musical|      3.7|\n",
      "|academic/educator|  Animation|     3.69|\n",
      "|academic/educator|    Mystery|     3.69|\n",
      "|academic/educator|      Crime|     3.66|\n",
      "|academic/educator|    Western|     3.63|\n",
      "|academic/educator|    Romance|     3.61|\n",
      "|academic/educator|   Thriller|     3.53|\n",
      "|academic/educator|     Comedy|     3.52|\n",
      "|academic/educator|    Fantasy|     3.46|\n",
      "|academic/educator| Children's|     3.46|\n",
      "|academic/educator|  Adventure|     3.42|\n",
      "|academic/educator|     Sci-Fi|      3.4|\n",
      "|academic/educator|     Action|     3.39|\n",
      "|academic/educator|     Horror|      3.1|\n",
      "|           artist|  Film-Noir|     4.11|\n",
      "|           artist|Documentary|     4.03|\n",
      "|           artist|        War|     3.86|\n",
      "|           artist|      Drama|     3.73|\n",
      "+-----------------+-----------+---------+\n",
      "only showing top 40 rows\n",
      "\n"
     ]
    },
    {
     "name": "stderr",
     "output_type": "stream",
     "text": [
      "                                                                                \r"
     ]
    }
   ],
   "source": [
    "# SQL query to find which genres are preferred by people with different occupational groups?\n",
    "result=spark.sql(\"\"\"\n",
    "WITH OccupationGenres AS (\n",
    "    SELECT\n",
    "        UserID,\n",
    "        MovieID,\n",
    "        Titles,\n",
    "        Genre,\n",
    "        Rating,\n",
    "        Occupation,\n",
    "        CASE\n",
    "            WHEN Occupation = 0 THEN 'other'\n",
    "            WHEN Occupation = 1 THEN 'academic/educator'\n",
    "            WHEN Occupation = 2 THEN 'artist'\n",
    "            WHEN Occupation = 3 THEN 'clerical/admin'\n",
    "            WHEN Occupation = 4 THEN 'college/grad student'\n",
    "            WHEN Occupation = 5 THEN 'customer service'\n",
    "            WHEN Occupation = 6 THEN 'doctor/health care'\n",
    "            WHEN Occupation = 7 THEN 'executive/managerial'\n",
    "            WHEN Occupation = 8 THEN 'farmer'\n",
    "            WHEN Occupation = 9 THEN 'homemaker'\n",
    "            WHEN Occupation = 10 THEN 'K-12 student'\n",
    "            WHEN Occupation = 11 THEN 'lawyer'\n",
    "            WHEN Occupation = 12 THEN 'programmer'\n",
    "            WHEN Occupation = 13 THEN 'retired'\n",
    "            WHEN Occupation = 14 THEN 'sales/marketing'\n",
    "            WHEN Occupation = 15 THEN 'scientist'\n",
    "            WHEN Occupation = 16 THEN 'self-employed'\n",
    "            WHEN Occupation = 17 THEN 'technician/engineer'\n",
    "            WHEN Occupation = 18 THEN 'tradesman/craftsman'\n",
    "            WHEN Occupation = 19 THEN 'unemployed'\n",
    "            WHEN Occupation = 20 THEN 'writer'\n",
    "            ELSE 'unknown'\n",
    "        END AS OccupationGroup\n",
    "    FROM\n",
    "        all_tbl)\n",
    "SELECT\n",
    "    OccupationGroup,\n",
    "    Genre,\n",
    "    ROUND(AVG(Rating),2) AS AvgRating\n",
    "FROM\n",
    "    OccupationGenres\n",
    "GROUP BY\n",
    "    OccupationGroup, Genre\n",
    "ORDER BY\n",
    "    OccupationGroup, AvgRating DESC\n",
    "\n",
    "\"\"\")\n",
    "result.show(40)\n"
   ]
  },
  {
   "cell_type": "markdown",
   "metadata": {},
   "source": [
    "The above query provides information on the preferred genres for different occupation groups based on the average ratings given by users in those groups.\n",
    " \n",
    " This information can be used to provide personalized content suggestions, user engagement and marketing strategies for users in specific professions and improve overall user experience in diverse occuptional groups.\n",
    " \n",
    "**Film-Noir** and **Documentary** have highest average ratings in the academic/educator group."
   ]
  },
  {
   "cell_type": "code",
   "execution_count": 27,
   "metadata": {},
   "outputs": [],
   "source": [
    "spark.stop()"
   ]
  },
  {
   "cell_type": "code",
   "execution_count": null,
   "metadata": {},
   "outputs": [],
   "source": []
  }
 ],
 "metadata": {
  "kernelspec": {
   "display_name": "Python 3",
   "language": "python",
   "name": "python3"
  },
  "language_info": {
   "codemirror_mode": {
    "name": "ipython",
    "version": 3
   },
   "file_extension": ".py",
   "mimetype": "text/x-python",
   "name": "python",
   "nbconvert_exporter": "python",
   "pygments_lexer": "ipython3",
   "version": "3.8.5"
  },
  "toc": {
   "base_numbering": 1,
   "nav_menu": {},
   "number_sections": true,
   "sideBar": true,
   "skip_h1_title": false,
   "title_cell": "Table of Contents",
   "title_sidebar": "Contents",
   "toc_cell": false,
   "toc_position": {},
   "toc_section_display": true,
   "toc_window_display": false
  },
  "varInspector": {
   "cols": {
    "lenName": 16,
    "lenType": 16,
    "lenVar": 40
   },
   "kernels_config": {
    "python": {
     "delete_cmd_postfix": "",
     "delete_cmd_prefix": "del ",
     "library": "var_list.py",
     "varRefreshCmd": "print(var_dic_list())"
    },
    "r": {
     "delete_cmd_postfix": ") ",
     "delete_cmd_prefix": "rm(",
     "library": "var_list.r",
     "varRefreshCmd": "cat(var_dic_list()) "
    }
   },
   "types_to_exclude": [
    "module",
    "function",
    "builtin_function_or_method",
    "instance",
    "_Feature"
   ],
   "window_display": false
  }
 },
 "nbformat": 4,
 "nbformat_minor": 5
}
