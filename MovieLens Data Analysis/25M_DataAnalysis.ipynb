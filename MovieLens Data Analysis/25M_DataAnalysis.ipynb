{
 "cells": [
  {
   "cell_type": "markdown",
   "metadata": {},
   "source": [
    "# Project3_25M_MovieLens Data Analysis\n",
    "\n",
    "Author : Ashita Chandnani"
   ]
  },
  {
   "cell_type": "markdown",
   "metadata": {},
   "source": [
    "[1. What are the most popular tags?](#section_1)\n",
    "\n",
    "[2. Finding top tags for a specific movie.](#section_2)\n",
    "\n",
    "[3. Exploring tagging trends over time](#section_3)"
   ]
  },
  {
   "cell_type": "code",
   "execution_count": 1,
   "metadata": {},
   "outputs": [],
   "source": [
    "from pyspark.sql import SparkSession, Row\n",
    "from pyspark.sql.functions import *\n",
    "import sys"
   ]
  },
  {
   "cell_type": "code",
   "execution_count": 2,
   "metadata": {},
   "outputs": [
    {
     "name": "stderr",
     "output_type": "stream",
     "text": [
      "Setting default log level to \"WARN\".\n",
      "To adjust logging level use sc.setLogLevel(newLevel). For SparkR, use setLogLevel(newLevel).\n",
      "23/12/06 14:10:44 WARN NativeCodeLoader: Unable to load native-hadoop library for your platform... using builtin-java classes where applicable\n"
     ]
    }
   ],
   "source": [
    "# Creating a Spark session\n",
    "spark = (SparkSession\n",
    "        .builder\n",
    "        .appName(\"Spark SQL Project3 Movie Data Mining- 25 Million\")\n",
    "        .getOrCreate())\n",
    "\n",
    "# Set the log level to ERROR to suppress INFO and WARN messages\n",
    "spark.sparkContext.setLogLevel(\"ERROR\")"
   ]
  },
  {
   "cell_type": "code",
   "execution_count": 3,
   "metadata": {},
   "outputs": [],
   "source": [
    "# Loading the DataFrames\n",
    "movie_csv_file = \"hdfs://cscluster00.boisestate.edu:9000/user/ashitachandnani/ml-25M/movies.csv\"\n",
    "ratings_csv_file = \"hdfs://cscluster00.boisestate.edu:9000/user/ashitachandnani/ml-25M/ratings.csv\"\n",
    "tags_csv_file = \"hdfs://cscluster00.boisestate.edu:9000/user/ashitachandnani/ml-25M/tags.csv\""
   ]
  },
  {
   "cell_type": "code",
   "execution_count": 4,
   "metadata": {},
   "outputs": [],
   "source": [
    "movies_df = (spark.read.format(\"csv\")\n",
    "      .option(\"inferschema\", \"true\")\n",
    "      .option(\"header\", \"true\")\n",
    "      .option(\"samplingRatio\", 0.1)  # Adjust the sampling ratio \n",
    "      .load(movie_csv_file))"
   ]
  },
  {
   "cell_type": "code",
   "execution_count": 5,
   "metadata": {},
   "outputs": [
    {
     "name": "stderr",
     "output_type": "stream",
     "text": [
      "                                                                                \r"
     ]
    }
   ],
   "source": [
    "ratings_df = (spark.read.format(\"csv\")\n",
    "    .option(\"inferschema\", \"true\")\n",
    "    .option(\"header\", \"true\")\n",
    "    .option(\"samplingRatio\", 0.1)  # Adjust the sampling ratio\n",
    "    .load(ratings_csv_file))"
   ]
  },
  {
   "cell_type": "code",
   "execution_count": 6,
   "metadata": {},
   "outputs": [],
   "source": [
    "tags_df = (spark.read.format(\"csv\")\n",
    "    .option(\"inferschema\", \"true\")\n",
    "    .option(\"header\", \"true\")\n",
    "    .option(\"samplingRatio\", 0.1)  # Adjust the sampling ratio\n",
    "    .load(tags_csv_file))"
   ]
  },
  {
   "cell_type": "code",
   "execution_count": 7,
   "metadata": {},
   "outputs": [],
   "source": [
    "movies=movies_df.withColumn(\"Genre\", explode(split(trim(col(\"Genres\")), \"\\\\|\")))"
   ]
  },
  {
   "cell_type": "code",
   "execution_count": 8,
   "metadata": {},
   "outputs": [
    {
     "name": "stdout",
     "output_type": "stream",
     "text": [
      "+-------+----------------+---------+\n",
      "|movieId|           title|    Genre|\n",
      "+-------+----------------+---------+\n",
      "|      1|Toy Story (1995)|Adventure|\n",
      "|      1|Toy Story (1995)|Animation|\n",
      "|      1|Toy Story (1995)| Children|\n",
      "|      1|Toy Story (1995)|   Comedy|\n",
      "|      1|Toy Story (1995)|  Fantasy|\n",
      "+-------+----------------+---------+\n",
      "only showing top 5 rows\n",
      "\n"
     ]
    }
   ],
   "source": [
    "movies=movies.drop('Genres')\n",
    "movies.show(5)"
   ]
  },
  {
   "cell_type": "code",
   "execution_count": 9,
   "metadata": {},
   "outputs": [
    {
     "name": "stdout",
     "output_type": "stream",
     "text": [
      "+------+-------+------+----------+\n",
      "|userId|movieId|rating| timestamp|\n",
      "+------+-------+------+----------+\n",
      "|     1|    296|   5.0|1147880044|\n",
      "|     1|    306|   3.5|1147868817|\n",
      "|     1|    307|   5.0|1147868828|\n",
      "|     1|    665|   5.0|1147878820|\n",
      "|     1|    899|   3.5|1147868510|\n",
      "+------+-------+------+----------+\n",
      "only showing top 5 rows\n",
      "\n"
     ]
    }
   ],
   "source": [
    "ratings_df.show(5)"
   ]
  },
  {
   "cell_type": "code",
   "execution_count": 10,
   "metadata": {},
   "outputs": [
    {
     "name": "stdout",
     "output_type": "stream",
     "text": [
      "+------+-------+----------------+----------+\n",
      "|userId|movieId|             tag| timestamp|\n",
      "+------+-------+----------------+----------+\n",
      "|     3|    260|         classic|1439472355|\n",
      "|     3|    260|          sci-fi|1439472256|\n",
      "|     4|   1732|     dark comedy|1573943598|\n",
      "|     4|   1732|  great dialogue|1573943604|\n",
      "|     4|   7569|so bad it's good|1573943455|\n",
      "+------+-------+----------------+----------+\n",
      "only showing top 5 rows\n",
      "\n"
     ]
    }
   ],
   "source": [
    "tags_df.show(5)"
   ]
  },
  {
   "cell_type": "code",
   "execution_count": 11,
   "metadata": {},
   "outputs": [],
   "source": [
    "# Joining tags and ratings on UserID\n",
    "# README says Users were selected separately for inclusion in the ratings and tags data sets, which implies that user ids may appear in one set but not the other. \n",
    "ratings_tags_df = ratings_df.join(tags_df, on=['UserID', 'MovieID'], how=\"full_outer\")"
   ]
  },
  {
   "cell_type": "code",
   "execution_count": 12,
   "metadata": {},
   "outputs": [],
   "source": [
    "# Joining with movies on MovieID\n",
    "joined_df = movies.join(ratings_tags_df, on=\"MovieID\")"
   ]
  },
  {
   "cell_type": "code",
   "execution_count": 13,
   "metadata": {},
   "outputs": [],
   "source": [
    "# creating a view on the final joined dataframe\n",
    "joined_df.createOrReplaceTempView(\"all_tbl\")"
   ]
  },
  {
   "cell_type": "markdown",
   "metadata": {},
   "source": [
    "Now we can issue standard SQL queries. These would be no differenet than what we would do in a standard relational database.\n",
    "\n",
    "The all_tbl has the data of all 3 tables joined on the common columns:\n",
    "* MovieID\n",
    "* UserID\n",
    "\n",
    "Now we can proceed with answering all our questions using standard SQL statements"
   ]
  },
  {
   "cell_type": "code",
   "execution_count": 14,
   "metadata": {},
   "outputs": [
    {
     "data": {
      "text/plain": [
       "DataFrame[movieId: int, title: string, Genre: string, userId: int, rating: double, timestamp: int, tag: string, timestamp: int]"
      ]
     },
     "execution_count": 14,
     "metadata": {},
     "output_type": "execute_result"
    }
   ],
   "source": [
    "joined_df.cache()"
   ]
  },
  {
   "cell_type": "markdown",
   "metadata": {},
   "source": [
    "# Interesting Trends -"
   ]
  },
  {
   "cell_type": "markdown",
   "metadata": {},
   "source": [
    "## 1. What are the most popular tags?<a id=\"section_1\"></a>"
   ]
  },
  {
   "cell_type": "code",
   "execution_count": 15,
   "metadata": {},
   "outputs": [
    {
     "name": "stderr",
     "output_type": "stream",
     "text": [
      "[Stage 12:=====================================================>(198 + 2) / 200]\r"
     ]
    },
    {
     "name": "stdout",
     "output_type": "stream",
     "text": [
      "+------------------+--------+\n",
      "|               Tag|TagCount|\n",
      "+------------------+--------+\n",
      "|            sci-fi|   28157|\n",
      "|            action|   20003|\n",
      "|       atmospheric|   18741|\n",
      "|           surreal|   17701|\n",
      "|visually appealing|   15111|\n",
      "|      twist ending|   14899|\n",
      "|          dystopia|   14575|\n",
      "|            comedy|   14072|\n",
      "|   based on a book|   13845|\n",
      "|             funny|   13396|\n",
      "+------------------+--------+\n",
      "only showing top 10 rows\n",
      "\n"
     ]
    },
    {
     "name": "stderr",
     "output_type": "stream",
     "text": [
      "                                                                                \r"
     ]
    }
   ],
   "source": [
    "# SQL query to find the most popular tags\n",
    "result = spark.sql(\"\"\"\n",
    "SELECT\n",
    "    Tag,\n",
    "    COUNT(*) AS TagCount\n",
    "FROM\n",
    "    all_tbl\n",
    "WHERE\n",
    "    Tag IS NOT NULL\n",
    "    AND Tag <> ''\n",
    "GROUP BY\n",
    "    Tag\n",
    "ORDER BY\n",
    "    TagCount DESC\n",
    "\"\"\")\n",
    "result.show(10)\n"
   ]
  },
  {
   "cell_type": "markdown",
   "metadata": {},
   "source": [
    "This analysis of popular tags can provide insights into user interests and trends.\n",
    "\n",
    "**'Sci-fi'** and **'action'** are the top tags and represent the most popular themes in this dataset."
   ]
  },
  {
   "cell_type": "markdown",
   "metadata": {},
   "source": [
    "## 2. Finding top tags for a specific movie <a id=\"section_2\"></a>"
   ]
  },
  {
   "cell_type": "code",
   "execution_count": 16,
   "metadata": {},
   "outputs": [
    {
     "name": "stderr",
     "output_type": "stream",
     "text": [
      "[Stage 19:=====================================================>(198 + 2) / 200]\r"
     ]
    },
    {
     "name": "stdout",
     "output_type": "stream",
     "text": [
      "+-------+----------------+------------------+--------+\n",
      "|MovieID|           Title|               Tag|TagCount|\n",
      "+-------+----------------+------------------+--------+\n",
      "|      1|Toy Story (1995)|         animation|     360|\n",
      "|      1|Toy Story (1995)|             Pixar|     350|\n",
      "|      1|Toy Story (1995)|             pixar|     220|\n",
      "|      1|Toy Story (1995)|            Disney|     210|\n",
      "|      1|Toy Story (1995)|         Tom Hanks|     155|\n",
      "|      1|Toy Story (1995)|computer animation|     150|\n",
      "|      1|Toy Story (1995)|             funny|     150|\n",
      "|      1|Toy Story (1995)|          children|     135|\n",
      "|      1|Toy Story (1995)|             witty|     130|\n",
      "|      1|Toy Story (1995)|        friendship|     115|\n",
      "+-------+----------------+------------------+--------+\n",
      "only showing top 10 rows\n",
      "\n"
     ]
    },
    {
     "name": "stderr",
     "output_type": "stream",
     "text": [
      "                                                                                \r"
     ]
    }
   ],
   "source": [
    "# SQL query to find the top tags for a specific movie\n",
    "result = spark.sql(\"\"\"\n",
    "SELECT\n",
    "    MovieID,\n",
    "    Title,\n",
    "    Tag,\n",
    "    COUNT(*) AS TagCount\n",
    "FROM\n",
    "    all_tbl\n",
    "WHERE\n",
    "    MovieID = 1\n",
    "    AND Tag IS NOT NULL\n",
    "    AND Tag <> ''\n",
    "GROUP BY\n",
    "    MovieID, Title, Tag\n",
    "ORDER BY\n",
    "    TagCount DESC\n",
    "\"\"\")\n",
    "result.show(10)\n"
   ]
  },
  {
   "cell_type": "markdown",
   "metadata": {},
   "source": [
    "This understanding of popular tags for a movie can help platforms suggest other movies with similar themes or characteristics.\n",
    "\n",
    "**'animation'**,**'pixar'**,**'disney'** are the top tags associated with the movie **Toy Story**."
   ]
  },
  {
   "cell_type": "markdown",
   "metadata": {},
   "source": [
    "## 3. Exploring tagging trends over time <a id=\"section_3\"></a>"
   ]
  },
  {
   "cell_type": "code",
   "execution_count": 17,
   "metadata": {},
   "outputs": [],
   "source": [
    "# creating a view on the final joined dataframe\n",
    "tags_df.createOrReplaceTempView(\"tags_tbl\")"
   ]
  },
  {
   "cell_type": "code",
   "execution_count": 18,
   "metadata": {},
   "outputs": [
    {
     "name": "stderr",
     "output_type": "stream",
     "text": [
      "[Stage 24:=====>                                                   (1 + 9) / 10]\r"
     ]
    },
    {
     "name": "stdout",
     "output_type": "stream",
     "text": [
      "+----+--------------------+--------+-------+\n",
      "|Year|                 Tag|TagCount|TagRank|\n",
      "+----+--------------------+--------+-------+\n",
      "|2019|         atmospheric|     842|      1|\n",
      "|2019|              sci-fi|     719|      2|\n",
      "|2019|  visually appealing|     671|      3|\n",
      "|2019|              action|     670|      4|\n",
      "|2019|             surreal|     644|      5|\n",
      "|2018|      woman director|    3555|      1|\n",
      "|2018|              murder|    1965|      2|\n",
      "|2018|    independent film|    1843|      3|\n",
      "|2018|             musical|    1266|      4|\n",
      "|2018|based on novel or...|    1162|      5|\n",
      "|2017|              sci-fi|     936|      1|\n",
      "|2017|  visually appealing|     725|      2|\n",
      "|2017|         atmospheric|     699|      3|\n",
      "|2017|                BD-R|     653|      4|\n",
      "|2017|              action|     545|      5|\n",
      "|2016|              sci-fi|    1016|      1|\n",
      "|2016|         atmospheric|     827|      2|\n",
      "|2016|             surreal|     646|      3|\n",
      "|2016|                BD-R|     584|      4|\n",
      "|2016|               funny|     583|      5|\n",
      "+----+--------------------+--------+-------+\n",
      "only showing top 20 rows\n",
      "\n"
     ]
    },
    {
     "name": "stderr",
     "output_type": "stream",
     "text": [
      "                                                                                \r"
     ]
    }
   ],
   "source": [
    "# SQL query to explore tagging trends over time\n",
    "result = spark.sql(\"\"\"\n",
    "WITH RankedTags AS (\n",
    "    SELECT\n",
    "        \n",
    "        YEAR(FROM_UNIXTIME(Timestamp)) AS Year,\n",
    "        Tag,\n",
    "        COUNT(*) AS TagCount,\n",
    "        ROW_NUMBER() OVER (PARTITION BY YEAR(FROM_UNIXTIME(Timestamp)) ORDER BY COUNT(*) DESC) AS TagRank\n",
    "    FROM\n",
    "        tags_tbl\n",
    "    WHERE\n",
    "        Tag IS NOT NULL\n",
    "        AND Tag <> ''\n",
    "    GROUP BY\n",
    "        Year, Tag\n",
    ")\n",
    "\n",
    "-- Main query to filter the top 4 tags for each year\n",
    "SELECT\n",
    "    \n",
    "    Year,\n",
    "    Tag,\n",
    "    TagCount,\n",
    "    TagRank\n",
    "FROM\n",
    "    RankedTags\n",
    "WHERE\n",
    "    TagRank <= 5\n",
    "ORDER BY\n",
    "    Year DESC, TagRank\n",
    "\"\"\")\n",
    "result.show(20)"
   ]
  },
  {
   "cell_type": "markdown",
   "metadata": {},
   "source": [
    "This analysis helps identify the most popular tags for each year by ranking them based on the number of occurrences. This information can be useful for content platform to understand user preferences and observing how tag popularity evolves over time.\n",
    "\n",
    "Identifying tags that are becoming more popular in recent years can be indicative of emerging trends or topics.\n",
    "\n",
    "For example, **'atmospheric'** was most frequently used tag in 2019 while in 2018 **'woman director'** was on top. The prevalence of certain genres **(sci-fi, action, surreal)** or themes **(visually appealing, woman director)** can indicate trends in movie preferences over time."
   ]
  },
  {
   "cell_type": "code",
   "execution_count": 19,
   "metadata": {},
   "outputs": [
    {
     "data": {
      "text/plain": [
       "DataFrame[movieId: int, title: string, Genre: string, userId: int, rating: double, timestamp: int, tag: string, timestamp: int]"
      ]
     },
     "execution_count": 19,
     "metadata": {},
     "output_type": "execute_result"
    }
   ],
   "source": [
    "joined_df.unpersist()"
   ]
  },
  {
   "cell_type": "code",
   "execution_count": 20,
   "metadata": {},
   "outputs": [],
   "source": [
    "spark.stop()"
   ]
  },
  {
   "cell_type": "code",
   "execution_count": null,
   "metadata": {},
   "outputs": [],
   "source": []
  },
  {
   "cell_type": "code",
   "execution_count": null,
   "metadata": {},
   "outputs": [],
   "source": []
  },
  {
   "cell_type": "code",
   "execution_count": null,
   "metadata": {},
   "outputs": [],
   "source": []
  }
 ],
 "metadata": {
  "kernelspec": {
   "display_name": "Python 3",
   "language": "python",
   "name": "python3"
  },
  "language_info": {
   "codemirror_mode": {
    "name": "ipython",
    "version": 3
   },
   "file_extension": ".py",
   "mimetype": "text/x-python",
   "name": "python",
   "nbconvert_exporter": "python",
   "pygments_lexer": "ipython3",
   "version": "3.8.5"
  },
  "toc": {
   "base_numbering": 1,
   "nav_menu": {},
   "number_sections": true,
   "sideBar": true,
   "skip_h1_title": false,
   "title_cell": "Table of Contents",
   "title_sidebar": "Contents",
   "toc_cell": false,
   "toc_position": {},
   "toc_section_display": true,
   "toc_window_display": false
  },
  "varInspector": {
   "cols": {
    "lenName": 16,
    "lenType": 16,
    "lenVar": 40
   },
   "kernels_config": {
    "python": {
     "delete_cmd_postfix": "",
     "delete_cmd_prefix": "del ",
     "library": "var_list.py",
     "varRefreshCmd": "print(var_dic_list())"
    },
    "r": {
     "delete_cmd_postfix": ") ",
     "delete_cmd_prefix": "rm(",
     "library": "var_list.r",
     "varRefreshCmd": "cat(var_dic_list()) "
    }
   },
   "types_to_exclude": [
    "module",
    "function",
    "builtin_function_or_method",
    "instance",
    "_Feature"
   ],
   "window_display": false
  }
 },
 "nbformat": 4,
 "nbformat_minor": 5
}
